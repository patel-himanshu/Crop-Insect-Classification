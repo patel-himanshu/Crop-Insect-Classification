{
 "cells": [
  {
   "cell_type": "code",
   "execution_count": 1,
   "metadata": {},
   "outputs": [],
   "source": [
    "import os\n",
    "import tensorflow as tf\n",
    "from tensorflow import keras\n",
    "from tensorflow.keras.models import Sequential\n",
    "from tensorflow.keras.layers import Dense, GlobalAveragePooling2D\n",
    "# import matplotlib.pyplot as plt"
   ]
  },
  {
   "cell_type": "code",
   "execution_count": 2,
   "metadata": {},
   "outputs": [
    {
     "name": "stdout",
     "output_type": "stream",
     "text": [
      "Downloading data from https://storage.googleapis.com/tensorflow/keras-applications/mobilenet_v2/mobilenet_v2_weights_tf_dim_ordering_tf_kernels_1.0_224_no_top.h5\n",
      "9412608/9406464 [==============================] - 1s 0us/step\n"
     ]
    }
   ],
   "source": [
    "base_model = tf.keras.applications.MobileNetV2(input_shape=(224, 224, 3),\n",
    "                                               include_top=False,\n",
    "                                               weights='imagenet')"
   ]
  },
  {
   "cell_type": "code",
   "execution_count": 3,
   "metadata": {},
   "outputs": [],
   "source": [
    "base_model.trainable = True"
   ]
  },
  {
   "cell_type": "code",
   "execution_count": 4,
   "metadata": {},
   "outputs": [
    {
     "name": "stdout",
     "output_type": "stream",
     "text": [
      "Model: \"sequential\"\n",
      "_________________________________________________________________\n",
      "Layer (type)                 Output Shape              Param #   \n",
      "=================================================================\n",
      "mobilenetv2_1.00_224 (Model) (None, 7, 7, 1280)        2257984   \n",
      "_________________________________________________________________\n",
      "global_average_pooling2d (Gl (None, 1280)              0         \n",
      "_________________________________________________________________\n",
      "dense (Dense)                (None, 4)                 5124      \n",
      "=================================================================\n",
      "Total params: 2,263,108\n",
      "Trainable params: 2,228,996\n",
      "Non-trainable params: 34,112\n",
      "_________________________________________________________________\n",
      "None\n"
     ]
    }
   ],
   "source": [
    "def define_model():\n",
    "    model = Sequential()\n",
    "    model.add(base_model)\n",
    "    model.add(GlobalAveragePooling2D())\n",
    "    model.add(Dense(4, activation='softmax'))\n",
    "    return model\n",
    "\n",
    "if __name__ == '__main__':\n",
    "    model = define_model()\n",
    "    print(model.summary())"
   ]
  },
  {
   "cell_type": "code",
   "execution_count": 5,
   "metadata": {},
   "outputs": [],
   "source": [
    "sgd = tf.keras.optimizers.SGD(lr=1e-6, decay=1e-6, momentum=0.9, nesterov=True)\n",
    "model.compile(optimizer=sgd, loss='categorical_crossentropy' , metrics=['accuracy'])"
   ]
  },
  {
   "cell_type": "code",
   "execution_count": 6,
   "metadata": {},
   "outputs": [],
   "source": [
    "from PIL import ImageFile\n",
    "ImageFile.LOAD_TRUNCATED_IMAGES = True"
   ]
  },
  {
   "cell_type": "code",
   "execution_count": 7,
   "metadata": {},
   "outputs": [
    {
     "name": "stderr",
     "output_type": "stream",
     "text": [
      "Using TensorFlow backend.\n"
     ]
    },
    {
     "name": "stdout",
     "output_type": "stream",
     "text": [
      "Found 17723 images belonging to 4 classes.\n",
      "Found 2214 images belonging to 4 classes.\n",
      "Found 2214 images belonging to 4 classes.\n"
     ]
    }
   ],
   "source": [
    "from keras.preprocessing.image import ImageDataGenerator\n",
    "\n",
    "train_datagen = ImageDataGenerator()\n",
    "validation_datagen = ImageDataGenerator()\n",
    "test_datagen = ImageDataGenerator()\n",
    "\n",
    "training_set = train_datagen.flow_from_directory('data_all/train/', \n",
    "                                                 target_size = (224,224), \n",
    "                                                 batch_size = 10, \n",
    "                                                 class_mode = 'categorical', \n",
    "                                                 shuffle = True)\n",
    "\n",
    "validation_set = test_datagen.flow_from_directory('data_all/validation/', \n",
    "                                            target_size = (224,224), \n",
    "                                            batch_size = 1, \n",
    "                                            class_mode = 'categorical')\n",
    "\n",
    "test_set = test_datagen.flow_from_directory('data_all/test/', \n",
    "                                            target_size = (224,224), \n",
    "                                            batch_size = 1, \n",
    "                                            class_mode = 'categorical')"
   ]
  },
  {
   "cell_type": "code",
   "execution_count": 8,
   "metadata": {},
   "outputs": [],
   "source": [
    "checkpoint_path = \"training_4/cp.ckpt\"\n",
    "checkpoint_dir = os.path.dirname(checkpoint_path)\n",
    "\n",
    "# Create a callback that saves the model's weights\n",
    "cp_callback = tf.keras.callbacks.ModelCheckpoint(filepath=checkpoint_path,\n",
    "                                                 save_weights_only=True,\n",
    "                                                 verbose=1)"
   ]
  },
  {
   "cell_type": "code",
   "execution_count": 9,
   "metadata": {},
   "outputs": [],
   "source": [
    "early_stopping = tf.keras.callbacks.EarlyStopping(patience = 3)"
   ]
  },
  {
   "cell_type": "code",
   "execution_count": 10,
   "metadata": {},
   "outputs": [
    {
     "name": "stdout",
     "output_type": "stream",
     "text": [
      "Epoch 1/30\n",
      "1773/1773 [==============================] - ETA: 0s - loss: 1.3198 - accuracy: 0.3954\n",
      "Epoch 00001: saving model to training_4/cp.ckpt\n",
      "1773/1773 [==============================] - 1921s 1s/step - loss: 1.3198 - accuracy: 0.3954 - val_loss: 0.9806 - val_accuracy: 0.6165\n",
      "Epoch 2/30\n",
      "1773/1773 [==============================] - ETA: 0s - loss: 0.9439 - accuracy: 0.6626\n",
      "Epoch 00002: saving model to training_4/cp.ckpt\n",
      "1773/1773 [==============================] - 1885s 1s/step - loss: 0.9439 - accuracy: 0.6626 - val_loss: 0.7187 - val_accuracy: 0.8080\n",
      "Epoch 3/30\n",
      "1773/1773 [==============================] - ETA: 0s - loss: 0.7392 - accuracy: 0.7913\n",
      "Epoch 00003: saving model to training_4/cp.ckpt\n",
      "1773/1773 [==============================] - 1885s 1s/step - loss: 0.7392 - accuracy: 0.7913 - val_loss: 0.5462 - val_accuracy: 0.8812\n",
      "Epoch 4/30\n",
      "1773/1773 [==============================] - ETA: 0s - loss: 0.6013 - accuracy: 0.8519\n",
      "Epoch 00004: saving model to training_4/cp.ckpt\n",
      "1773/1773 [==============================] - 1890s 1s/step - loss: 0.6013 - accuracy: 0.8519 - val_loss: 0.4279 - val_accuracy: 0.9228\n",
      "Epoch 5/30\n",
      "1773/1773 [==============================] - ETA: 0s - loss: 0.5005 - accuracy: 0.8871\n",
      "Epoch 00005: saving model to training_4/cp.ckpt\n",
      "1773/1773 [==============================] - 1889s 1s/step - loss: 0.5005 - accuracy: 0.8871 - val_loss: 0.3470 - val_accuracy: 0.9463\n",
      "Epoch 6/30\n",
      "1773/1773 [==============================] - ETA: 0s - loss: 0.4374 - accuracy: 0.9045\n",
      "Epoch 00006: saving model to training_4/cp.ckpt\n",
      "1773/1773 [==============================] - 1892s 1s/step - loss: 0.4374 - accuracy: 0.9045 - val_loss: 0.2888 - val_accuracy: 0.9580\n",
      "Epoch 7/30\n",
      "1773/1773 [==============================] - ETA: 0s - loss: 0.3872 - accuracy: 0.9177\n",
      "Epoch 00007: saving model to training_4/cp.ckpt\n",
      "1773/1773 [==============================] - 1890s 1s/step - loss: 0.3872 - accuracy: 0.9177 - val_loss: 0.2446 - val_accuracy: 0.9684\n",
      "Epoch 8/30\n",
      "1773/1773 [==============================] - ETA: 0s - loss: 0.3441 - accuracy: 0.9260\n",
      "Epoch 00008: saving model to training_4/cp.ckpt\n",
      "1773/1773 [==============================] - 1890s 1s/step - loss: 0.3441 - accuracy: 0.9260 - val_loss: 0.2104 - val_accuracy: 0.9711\n",
      "Epoch 9/30\n",
      "1773/1773 [==============================] - ETA: 0s - loss: 0.3126 - accuracy: 0.9342\n",
      "Epoch 00009: saving model to training_4/cp.ckpt\n",
      "1773/1773 [==============================] - 1899s 1s/step - loss: 0.3126 - accuracy: 0.9342 - val_loss: 0.1847 - val_accuracy: 0.9770\n",
      "Epoch 10/30\n",
      "1773/1773 [==============================] - ETA: 0s - loss: 0.2928 - accuracy: 0.9357\n",
      "Epoch 00010: saving model to training_4/cp.ckpt\n",
      "1773/1773 [==============================] - 1888s 1s/step - loss: 0.2928 - accuracy: 0.9357 - val_loss: 0.1631 - val_accuracy: 0.9806\n",
      "Epoch 11/30\n",
      "1773/1773 [==============================] - ETA: 0s - loss: 0.2720 - accuracy: 0.9396\n",
      "Epoch 00011: saving model to training_4/cp.ckpt\n",
      "1773/1773 [==============================] - 1893s 1s/step - loss: 0.2720 - accuracy: 0.9396 - val_loss: 0.1454 - val_accuracy: 0.9828\n",
      "Epoch 12/30\n",
      "1773/1773 [==============================] - ETA: 0s - loss: 0.2536 - accuracy: 0.9454\n",
      "Epoch 00012: saving model to training_4/cp.ckpt\n",
      "1773/1773 [==============================] - 1889s 1s/step - loss: 0.2536 - accuracy: 0.9454 - val_loss: 0.1315 - val_accuracy: 0.9842\n",
      "Epoch 13/30\n",
      "1773/1773 [==============================] - ETA: 0s - loss: 0.2344 - accuracy: 0.9501\n",
      "Epoch 00013: saving model to training_4/cp.ckpt\n",
      "1773/1773 [==============================] - 1893s 1s/step - loss: 0.2344 - accuracy: 0.9501 - val_loss: 0.1192 - val_accuracy: 0.9851\n",
      "Epoch 14/30\n",
      "1773/1773 [==============================] - ETA: 0s - loss: 0.2215 - accuracy: 0.9525\n",
      "Epoch 00014: saving model to training_4/cp.ckpt\n",
      "1773/1773 [==============================] - 1888s 1s/step - loss: 0.2215 - accuracy: 0.9525 - val_loss: 0.1087 - val_accuracy: 0.9869\n",
      "Epoch 15/30\n",
      "1773/1773 [==============================] - ETA: 0s - loss: 0.2093 - accuracy: 0.9522\n",
      "Epoch 00015: saving model to training_4/cp.ckpt\n",
      "1773/1773 [==============================] - 1891s 1s/step - loss: 0.2093 - accuracy: 0.9522 - val_loss: 0.0997 - val_accuracy: 0.9887\n",
      "Epoch 16/30\n",
      "1773/1773 [==============================] - ETA: 0s - loss: 0.2006 - accuracy: 0.9569\n",
      "Epoch 00016: saving model to training_4/cp.ckpt\n",
      "1773/1773 [==============================] - 1885s 1s/step - loss: 0.2006 - accuracy: 0.9569 - val_loss: 0.0921 - val_accuracy: 0.9901\n",
      "Epoch 17/30\n",
      "1773/1773 [==============================] - ETA: 0s - loss: 0.1862 - accuracy: 0.9595\n",
      "Epoch 00017: saving model to training_4/cp.ckpt\n",
      "1773/1773 [==============================] - 1889s 1s/step - loss: 0.1862 - accuracy: 0.9595 - val_loss: 0.0853 - val_accuracy: 0.9914\n",
      "Epoch 18/30\n",
      "1773/1773 [==============================] - ETA: 0s - loss: 0.1852 - accuracy: 0.9573\n",
      "Epoch 00018: saving model to training_4/cp.ckpt\n",
      "1773/1773 [==============================] - 1883s 1s/step - loss: 0.1852 - accuracy: 0.9573 - val_loss: 0.0796 - val_accuracy: 0.9914\n",
      "Epoch 19/30\n",
      "1773/1773 [==============================] - ETA: 0s - loss: 0.1770 - accuracy: 0.9588\n",
      "Epoch 00019: saving model to training_4/cp.ckpt\n",
      "1773/1773 [==============================] - 1894s 1s/step - loss: 0.1770 - accuracy: 0.9588 - val_loss: 0.0744 - val_accuracy: 0.9914\n",
      "Epoch 20/30\n",
      "1773/1773 [==============================] - ETA: 0s - loss: 0.1712 - accuracy: 0.9603\n",
      "Epoch 00020: saving model to training_4/cp.ckpt\n",
      "1773/1773 [==============================] - 1888s 1s/step - loss: 0.1712 - accuracy: 0.9603 - val_loss: 0.0698 - val_accuracy: 0.9928\n",
      "Epoch 21/30\n",
      "1773/1773 [==============================] - ETA: 0s - loss: 0.1626 - accuracy: 0.9626\n",
      "Epoch 00021: saving model to training_4/cp.ckpt\n",
      "1773/1773 [==============================] - 1890s 1s/step - loss: 0.1626 - accuracy: 0.9626 - val_loss: 0.0654 - val_accuracy: 0.9932\n",
      "Epoch 22/30\n",
      "1773/1773 [==============================] - ETA: 0s - loss: 0.1572 - accuracy: 0.9637\n",
      "Epoch 00022: saving model to training_4/cp.ckpt\n",
      "1773/1773 [==============================] - 1894s 1s/step - loss: 0.1572 - accuracy: 0.9637 - val_loss: 0.0612 - val_accuracy: 0.9946\n",
      "Epoch 23/30\n",
      "1773/1773 [==============================] - ETA: 0s - loss: 0.1533 - accuracy: 0.9645\n",
      "Epoch 00023: saving model to training_4/cp.ckpt\n",
      "1773/1773 [==============================] - 1890s 1s/step - loss: 0.1533 - accuracy: 0.9645 - val_loss: 0.0583 - val_accuracy: 0.9946\n",
      "Epoch 24/30\n",
      "1773/1773 [==============================] - ETA: 0s - loss: 0.1510 - accuracy: 0.9627\n",
      "Epoch 00024: saving model to training_4/cp.ckpt\n",
      "1773/1773 [==============================] - 1863s 1s/step - loss: 0.1510 - accuracy: 0.9627 - val_loss: 0.0552 - val_accuracy: 0.9950\n",
      "Epoch 25/30\n",
      "1773/1773 [==============================] - ETA: 0s - loss: 0.1364 - accuracy: 0.9674\n",
      "Epoch 00025: saving model to training_4/cp.ckpt\n",
      "1773/1773 [==============================] - 1852s 1s/step - loss: 0.1364 - accuracy: 0.9674 - val_loss: 0.0525 - val_accuracy: 0.9950\n",
      "Epoch 26/30\n",
      "1773/1773 [==============================] - ETA: 0s - loss: 0.1369 - accuracy: 0.9689\n",
      "Epoch 00026: saving model to training_4/cp.ckpt\n",
      "1773/1773 [==============================] - 1851s 1s/step - loss: 0.1369 - accuracy: 0.9689 - val_loss: 0.0499 - val_accuracy: 0.9950\n",
      "Epoch 27/30\n",
      "1773/1773 [==============================] - ETA: 0s - loss: 0.1340 - accuracy: 0.9684\n",
      "Epoch 00027: saving model to training_4/cp.ckpt\n",
      "1773/1773 [==============================] - 1854s 1s/step - loss: 0.1340 - accuracy: 0.9684 - val_loss: 0.0478 - val_accuracy: 0.9950\n",
      "Epoch 28/30\n",
      "1773/1773 [==============================] - ETA: 0s - loss: 0.1298 - accuracy: 0.9687\n",
      "Epoch 00028: saving model to training_4/cp.ckpt\n",
      "1773/1773 [==============================] - 1851s 1s/step - loss: 0.1298 - accuracy: 0.9687 - val_loss: 0.0456 - val_accuracy: 0.9950\n",
      "Epoch 29/30\n",
      "1773/1773 [==============================] - ETA: 0s - loss: 0.1285 - accuracy: 0.9692\n",
      "Epoch 00029: saving model to training_4/cp.ckpt\n",
      "1773/1773 [==============================] - 1858s 1s/step - loss: 0.1285 - accuracy: 0.9692 - val_loss: 0.0437 - val_accuracy: 0.9950\n",
      "Epoch 30/30\n"
     ]
    },
    {
     "name": "stdout",
     "output_type": "stream",
     "text": [
      "1773/1773 [==============================] - ETA: 0s - loss: 0.1239 - accuracy: 0.9687\n",
      "Epoch 00030: saving model to training_4/cp.ckpt\n",
      "1773/1773 [==============================] - 1557s 878ms/step - loss: 0.1239 - accuracy: 0.9687 - val_loss: 0.0418 - val_accuracy: 0.9950\n"
     ]
    }
   ],
   "source": [
    "training = model.fit(training_set, \n",
    "                     epochs = 30, \n",
    "                     validation_data = validation_set, \n",
    "                     verbose = 1, \n",
    "                     callbacks = [cp_callback, early_stopping])"
   ]
  },
  {
   "cell_type": "code",
   "execution_count": 11,
   "metadata": {},
   "outputs": [
    {
     "name": "stdout",
     "output_type": "stream",
     "text": [
      "2214/2214 [==============================] - 182s 82ms/step - loss: 0.0415 - accuracy: 0.9946\n"
     ]
    }
   ],
   "source": [
    "results = model.evaluate(test_set)"
   ]
  },
  {
   "cell_type": "code",
   "execution_count": 12,
   "metadata": {},
   "outputs": [
    {
     "name": "stdout",
     "output_type": "stream",
     "text": [
      "WARNING:tensorflow:From /home/user/anaconda3/envs/tf/lib/python3.8/site-packages/tensorflow/python/ops/resource_variable_ops.py:1813: calling BaseResourceVariable.__init__ (from tensorflow.python.ops.resource_variable_ops) with constraint is deprecated and will be removed in a future version.\n",
      "Instructions for updating:\n",
      "If using Keras pass *_constraint arguments to layers.\n",
      "INFO:tensorflow:Assets written to: saved_model/MobileNet/assets\n"
     ]
    }
   ],
   "source": [
    "model.save('saved_model/MobileNet')"
   ]
  },
  {
   "cell_type": "code",
   "execution_count": 13,
   "metadata": {},
   "outputs": [],
   "source": [
    "model.save('MobileNet.h5')"
   ]
  },
  {
   "cell_type": "code",
   "execution_count": 14,
   "metadata": {},
   "outputs": [
    {
     "data": {
      "text/plain": [
       "8947400"
      ]
     },
     "execution_count": 14,
     "metadata": {},
     "output_type": "execute_result"
    }
   ],
   "source": [
    "converter = tf.lite.TFLiteConverter.from_saved_model('saved_model/MobileNet')\n",
    "tflite_model = converter.convert()\n",
    "open(\"converted_model_mobilenet.tflite\", \"wb\").write(tflite_model)"
   ]
  },
  {
   "cell_type": "code",
   "execution_count": null,
   "metadata": {},
   "outputs": [],
   "source": []
  }
 ],
 "metadata": {
  "kernelspec": {
   "display_name": "Python 3",
   "language": "python",
   "name": "python3"
  },
  "language_info": {
   "codemirror_mode": {
    "name": "ipython",
    "version": 3
   },
   "file_extension": ".py",
   "mimetype": "text/x-python",
   "name": "python",
   "nbconvert_exporter": "python",
   "pygments_lexer": "ipython3",
   "version": "3.8.3"
  }
 },
 "nbformat": 4,
 "nbformat_minor": 4
}
