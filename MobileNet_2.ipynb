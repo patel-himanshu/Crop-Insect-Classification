{
 "cells": [
  {
   "cell_type": "code",
   "execution_count": 1,
   "metadata": {},
   "outputs": [],
   "source": [
    "import os\n",
    "import tensorflow as tf\n",
    "from tensorflow import keras\n",
    "from tensorflow.keras.models import Sequential\n",
    "from tensorflow.keras.layers import Dense, GlobalAveragePooling2D\n",
    "import matplotlib.pyplot as plt"
   ]
  },
  {
   "cell_type": "code",
   "execution_count": 2,
   "metadata": {},
   "outputs": [],
   "source": [
    "base_model = tf.keras.applications.MobileNetV2(input_shape=(224, 224, 3),\n",
    "                                               include_top=False,\n",
    "                                               weights='imagenet')"
   ]
  },
  {
   "cell_type": "code",
   "execution_count": 3,
   "metadata": {},
   "outputs": [],
   "source": [
    "base_model.trainable = True"
   ]
  },
  {
   "cell_type": "code",
   "execution_count": 4,
   "metadata": {},
   "outputs": [
    {
     "name": "stdout",
     "output_type": "stream",
     "text": [
      "Model: \"sequential\"\n",
      "_________________________________________________________________\n",
      "Layer (type)                 Output Shape              Param #   \n",
      "=================================================================\n",
      "mobilenetv2_1.00_224 (Model) (None, 7, 7, 1280)        2257984   \n",
      "_________________________________________________________________\n",
      "global_average_pooling2d (Gl (None, 1280)              0         \n",
      "_________________________________________________________________\n",
      "dense (Dense)                (None, 4)                 5124      \n",
      "=================================================================\n",
      "Total params: 2,263,108\n",
      "Trainable params: 2,228,996\n",
      "Non-trainable params: 34,112\n",
      "_________________________________________________________________\n",
      "None\n"
     ]
    }
   ],
   "source": [
    "def define_model():\n",
    "    model = Sequential()\n",
    "    model.add(base_model)\n",
    "    model.add(GlobalAveragePooling2D())\n",
    "    model.add(Dense(4, activation='softmax'))\n",
    "    return model\n",
    "\n",
    "if __name__ == '__main__':\n",
    "    model = define_model()\n",
    "    print(model.summary())"
   ]
  },
  {
   "cell_type": "code",
   "execution_count": 5,
   "metadata": {},
   "outputs": [],
   "source": [
    "sgd = tf.keras.optimizers.SGD(lr=1e-6, decay=1e-6, momentum=0.9, nesterov=True)\n",
    "model.compile(optimizer=sgd, loss='categorical_crossentropy' , metrics=['accuracy'])"
   ]
  },
  {
   "cell_type": "code",
   "execution_count": 6,
   "metadata": {},
   "outputs": [],
   "source": [
    "from PIL import ImageFile\n",
    "ImageFile.LOAD_TRUNCATED_IMAGES = True"
   ]
  },
  {
   "cell_type": "code",
   "execution_count": 7,
   "metadata": {},
   "outputs": [
    {
     "name": "stderr",
     "output_type": "stream",
     "text": [
      "Using TensorFlow backend.\n"
     ]
    },
    {
     "name": "stdout",
     "output_type": "stream",
     "text": [
      "Found 5694 images belonging to 4 classes.\n",
      "Found 1140 images belonging to 4 classes.\n",
      "Found 760 images belonging to 4 classes.\n"
     ]
    }
   ],
   "source": [
    "from keras.preprocessing.image import ImageDataGenerator\n",
    "\n",
    "train_datagen = ImageDataGenerator()\n",
    "validation_datagen = ImageDataGenerator()\n",
    "test_datagen = ImageDataGenerator()\n",
    "\n",
    "training_set = train_datagen.flow_from_directory('D3/train/', \n",
    "                                                 target_size = (224,224), \n",
    "                                                 batch_size = 10, \n",
    "                                                 class_mode = 'categorical', \n",
    "                                                 shuffle = True)\n",
    "\n",
    "validation_set = test_datagen.flow_from_directory('D3/validation/', \n",
    "                                            target_size = (224,224), \n",
    "                                            batch_size = 1, \n",
    "                                            class_mode = 'categorical')\n",
    "\n",
    "test_set = test_datagen.flow_from_directory('D3/test/', \n",
    "                                            target_size = (224,224), \n",
    "                                            batch_size = 1, \n",
    "                                            class_mode = 'categorical')"
   ]
  },
  {
   "cell_type": "code",
   "execution_count": 8,
   "metadata": {},
   "outputs": [],
   "source": [
    "checkpoint_path = \"training_4/cp.ckpt\"\n",
    "checkpoint_dir = os.path.dirname(checkpoint_path)\n",
    "\n",
    "# Create a callback that saves the model's weights\n",
    "cp_callback = tf.keras.callbacks.ModelCheckpoint(filepath=checkpoint_path,\n",
    "                                                 save_weights_only=True,\n",
    "                                                 verbose=1)"
   ]
  },
  {
   "cell_type": "code",
   "execution_count": 9,
   "metadata": {},
   "outputs": [],
   "source": [
    "early_stopping = tf.keras.callbacks.EarlyStopping(patience = 3)"
   ]
  },
  {
   "cell_type": "code",
   "execution_count": 10,
   "metadata": {},
   "outputs": [
    {
     "name": "stdout",
     "output_type": "stream",
     "text": [
      "Train for 570 steps, validate for 1140 steps\n",
      "Epoch 1/30\n",
      "569/570 [============================>.] - ETA: 1s - loss: 1.3724 - accuracy: 0.3482\n",
      "Epoch 00001: saving model to training_007/cp.ckpt\n",
      "570/570 [==============================] - 793s 1s/step - loss: 1.3723 - accuracy: 0.3488 - val_loss: 1.3492 - val_accuracy: 0.3904\n",
      "Epoch 2/30\n",
      "569/570 [============================>.] - ETA: 1s - loss: 1.2042 - accuracy: 0.4731\n",
      "Epoch 00002: saving model to training_007/cp.ckpt\n",
      "570/570 [==============================] - 816s 1s/step - loss: 1.2041 - accuracy: 0.4731 - val_loss: 1.0697 - val_accuracy: 0.5588\n",
      "Epoch 3/30\n",
      "569/570 [============================>.] - ETA: 1s - loss: 1.0697 - accuracy: 0.5806\n",
      "Epoch 00003: saving model to training_007/cp.ckpt\n",
      "570/570 [==============================] - 814s 1s/step - loss: 1.0693 - accuracy: 0.5810 - val_loss: 0.9264 - val_accuracy: 0.6763\n",
      "Epoch 4/30\n",
      "569/570 [============================>.] - ETA: 0s - loss: 0.9587 - accuracy: 0.6606\n",
      "Epoch 00004: saving model to training_007/cp.ckpt\n",
      "570/570 [==============================] - 646s 1s/step - loss: 0.9591 - accuracy: 0.6605 - val_loss: 0.8183 - val_accuracy: 0.7614\n",
      "Epoch 5/30\n",
      "569/570 [============================>.] - ETA: 0s - loss: 0.8675 - accuracy: 0.7175\n",
      "Epoch 00005: saving model to training_007/cp.ckpt\n",
      "570/570 [==============================] - 633s 1s/step - loss: 0.8676 - accuracy: 0.7174 - val_loss: 0.7306 - val_accuracy: 0.8105\n",
      "Epoch 6/30\n",
      "569/570 [============================>.] - ETA: 0s - loss: 0.7908 - accuracy: 0.7657\n",
      "Epoch 00006: saving model to training_007/cp.ckpt\n",
      "570/570 [==============================] - 638s 1s/step - loss: 0.7906 - accuracy: 0.7659 - val_loss: 0.6584 - val_accuracy: 0.8412\n",
      "Epoch 7/30\n",
      "569/570 [============================>.] - ETA: 0s - loss: 0.7251 - accuracy: 0.8010\n",
      "Epoch 00007: saving model to training_007/cp.ckpt\n",
      "570/570 [==============================] - 621s 1s/step - loss: 0.7252 - accuracy: 0.8010 - val_loss: 0.5963 - val_accuracy: 0.8746\n",
      "Epoch 8/30\n",
      "569/570 [============================>.] - ETA: 1s - loss: 0.6691 - accuracy: 0.8276\n",
      "Epoch 00008: saving model to training_007/cp.ckpt\n",
      "570/570 [==============================] - 673s 1s/step - loss: 0.6692 - accuracy: 0.8277 - val_loss: 0.5423 - val_accuracy: 0.9000\n",
      "Epoch 9/30\n",
      "569/570 [============================>.] - ETA: 0s - loss: 0.6208 - accuracy: 0.8506\n",
      "Epoch 00009: saving model to training_007/cp.ckpt\n",
      "570/570 [==============================] - 573s 1s/step - loss: 0.6207 - accuracy: 0.8507 - val_loss: 0.4956 - val_accuracy: 0.9132\n",
      "Epoch 10/30\n",
      "569/570 [============================>.] - ETA: 0s - loss: 0.5787 - accuracy: 0.8670\n",
      "Epoch 00010: saving model to training_007/cp.ckpt\n",
      "570/570 [==============================] - 570s 1000ms/step - loss: 0.5785 - accuracy: 0.8671 - val_loss: 0.4547 - val_accuracy: 0.9272\n",
      "Epoch 11/30\n",
      "569/570 [============================>.] - ETA: 0s - loss: 0.5413 - accuracy: 0.8835\n",
      "Epoch 00011: saving model to training_007/cp.ckpt\n",
      "570/570 [==============================] - 574s 1s/step - loss: 0.5414 - accuracy: 0.8836 - val_loss: 0.4189 - val_accuracy: 0.9386\n",
      "Epoch 12/30\n",
      "569/570 [============================>.] - ETA: 0s - loss: 0.5087 - accuracy: 0.8976\n",
      "Epoch 00012: saving model to training_007/cp.ckpt\n",
      "570/570 [==============================] - 536s 941ms/step - loss: 0.5087 - accuracy: 0.8978 - val_loss: 0.3874 - val_accuracy: 0.9447\n",
      "Epoch 13/30\n",
      "569/570 [============================>.] - ETA: 0s - loss: 0.4796 - accuracy: 0.9059\n",
      "Epoch 00013: saving model to training_007/cp.ckpt\n",
      "570/570 [==============================] - 533s 934ms/step - loss: 0.4796 - accuracy: 0.9059 - val_loss: 0.3594 - val_accuracy: 0.9482\n",
      "Epoch 14/30\n",
      "569/570 [============================>.] - ETA: 0s - loss: 0.4532 - accuracy: 0.9134\n",
      "Epoch 00014: saving model to training_007/cp.ckpt\n",
      "570/570 [==============================] - 514s 902ms/step - loss: 0.4536 - accuracy: 0.9132 - val_loss: 0.3347 - val_accuracy: 0.9544\n",
      "Epoch 15/30\n",
      "569/570 [============================>.] - ETA: 0s - loss: 0.4302 - accuracy: 0.9214\n",
      "Epoch 00015: saving model to training_007/cp.ckpt\n",
      "570/570 [==============================] - 505s 886ms/step - loss: 0.4303 - accuracy: 0.9215 - val_loss: 0.3126 - val_accuracy: 0.9596\n",
      "Epoch 16/30\n",
      "569/570 [============================>.] - ETA: 0s - loss: 0.4092 - accuracy: 0.9261\n",
      "Epoch 00016: saving model to training_007/cp.ckpt\n",
      "570/570 [==============================] - 506s 887ms/step - loss: 0.4093 - accuracy: 0.9261 - val_loss: 0.2927 - val_accuracy: 0.9640\n",
      "Epoch 17/30\n",
      "569/570 [============================>.] - ETA: 0s - loss: 0.3902 - accuracy: 0.9317\n",
      "Epoch 00017: saving model to training_007/cp.ckpt\n",
      "570/570 [==============================] - 505s 885ms/step - loss: 0.3903 - accuracy: 0.9317 - val_loss: 0.2750 - val_accuracy: 0.9684\n",
      "Epoch 18/30\n",
      "569/570 [============================>.] - ETA: 0s - loss: 0.3728 - accuracy: 0.9347\n",
      "Epoch 00018: saving model to training_007/cp.ckpt\n",
      "570/570 [==============================] - 532s 933ms/step - loss: 0.3730 - accuracy: 0.9347 - val_loss: 0.2589 - val_accuracy: 0.9711\n",
      "Epoch 19/30\n",
      "569/570 [============================>.] - ETA: 0s - loss: 0.3571 - accuracy: 0.9393\n",
      "Epoch 00019: saving model to training_007/cp.ckpt\n",
      "570/570 [==============================] - 513s 901ms/step - loss: 0.3572 - accuracy: 0.9394 - val_loss: 0.2443 - val_accuracy: 0.9728\n",
      "Epoch 20/30\n",
      "569/570 [============================>.] - ETA: 0s - loss: 0.3426 - accuracy: 0.9419\n",
      "Epoch 00020: saving model to training_007/cp.ckpt\n",
      "570/570 [==============================] - 520s 913ms/step - loss: 0.3427 - accuracy: 0.9419 - val_loss: 0.2311 - val_accuracy: 0.9746\n",
      "Epoch 21/30\n",
      "569/570 [============================>.] - ETA: 0s - loss: 0.3295 - accuracy: 0.9451\n",
      "Epoch 00021: saving model to training_007/cp.ckpt\n",
      "570/570 [==============================] - 509s 893ms/step - loss: 0.3293 - accuracy: 0.9452 - val_loss: 0.2189 - val_accuracy: 0.9789\n",
      "Epoch 22/30\n",
      "569/570 [============================>.] - ETA: 0s - loss: 0.3173 - accuracy: 0.9470\n",
      "Epoch 00022: saving model to training_007/cp.ckpt\n",
      "570/570 [==============================] - 513s 900ms/step - loss: 0.3170 - accuracy: 0.9471 - val_loss: 0.2078 - val_accuracy: 0.9798\n",
      "Epoch 23/30\n",
      "569/570 [============================>.] - ETA: 0s - loss: 0.3058 - accuracy: 0.9490\n",
      "Epoch 00023: saving model to training_007/cp.ckpt\n",
      "570/570 [==============================] - 513s 901ms/step - loss: 0.3057 - accuracy: 0.9491 - val_loss: 0.1976 - val_accuracy: 0.9807\n",
      "Epoch 24/30\n",
      "569/570 [============================>.] - ETA: 0s - loss: 0.2951 - accuracy: 0.9514\n",
      "Epoch 00024: saving model to training_007/cp.ckpt\n",
      "570/570 [==============================] - 512s 897ms/step - loss: 0.2951 - accuracy: 0.9515 - val_loss: 0.1881 - val_accuracy: 0.9833\n",
      "Epoch 25/30\n",
      "569/570 [============================>.] - ETA: 0s - loss: 0.2855 - accuracy: 0.9529\n",
      "Epoch 00025: saving model to training_007/cp.ckpt\n",
      "570/570 [==============================] - 519s 910ms/step - loss: 0.2853 - accuracy: 0.9529 - val_loss: 0.1795 - val_accuracy: 0.9842\n",
      "Epoch 26/30\n",
      "569/570 [============================>.] - ETA: 0s - loss: 0.2761 - accuracy: 0.9544\n",
      "Epoch 00026: saving model to training_007/cp.ckpt\n",
      "570/570 [==============================] - 515s 903ms/step - loss: 0.2761 - accuracy: 0.9543 - val_loss: 0.1714 - val_accuracy: 0.9851\n",
      "Epoch 27/30\n",
      "569/570 [============================>.] - ETA: 0s - loss: 0.2676 - accuracy: 0.9553\n",
      "Epoch 00027: saving model to training_007/cp.ckpt\n",
      "570/570 [==============================] - 513s 900ms/step - loss: 0.2676 - accuracy: 0.9554 - val_loss: 0.1639 - val_accuracy: 0.9860\n",
      "Epoch 28/30\n",
      "569/570 [============================>.] - ETA: 0s - loss: 0.2586 - accuracy: 0.9574\n",
      "Epoch 00028: saving model to training_007/cp.ckpt\n",
      "570/570 [==============================] - 515s 904ms/step - loss: 0.2595 - accuracy: 0.9570 - val_loss: 0.1570 - val_accuracy: 0.9868\n",
      "Epoch 29/30\n",
      "569/570 [============================>.] - ETA: 0s - loss: 0.2517 - accuracy: 0.9578\n",
      "Epoch 00029: saving model to training_007/cp.ckpt\n",
      "570/570 [==============================] - 508s 892ms/step - loss: 0.2520 - accuracy: 0.9579 - val_loss: 0.1506 - val_accuracy: 0.9868\n",
      "Epoch 30/30\n"
     ]
    },
    {
     "name": "stdout",
     "output_type": "stream",
     "text": [
      "569/570 [============================>.] - ETA: 0s - loss: 0.2451 - accuracy: 0.9592\n",
      "Epoch 00030: saving model to training_007/cp.ckpt\n",
      "570/570 [==============================] - 504s 884ms/step - loss: 0.2449 - accuracy: 0.9593 - val_loss: 0.1446 - val_accuracy: 0.9877\n"
     ]
    }
   ],
   "source": [
    "training = model.fit(training_set, \n",
    "                     epochs = 30, \n",
    "                     validation_data = validation_set, \n",
    "                     verbose = 1, \n",
    "                     callbacks = [cp_callback, early_stopping])"
   ]
  },
  {
   "cell_type": "code",
   "execution_count": 11,
   "metadata": {},
   "outputs": [
    {
     "name": "stdout",
     "output_type": "stream",
     "text": [
      "760/760 [==============================] - 84s 111ms/step - loss: 0.1521 - accuracy: 0.9908\n"
     ]
    }
   ],
   "source": [
    "results = model.evaluate(test_set)"
   ]
  },
  {
   "cell_type": "code",
   "execution_count": 12,
   "metadata": {},
   "outputs": [
    {
     "name": "stdout",
     "output_type": "stream",
     "text": [
      "WARNING:tensorflow:From /home/himanshu/anaconda3/envs/tf_gpu/lib/python3.7/site-packages/tensorflow_core/python/ops/resource_variable_ops.py:1781: calling BaseResourceVariable.__init__ (from tensorflow.python.ops.resource_variable_ops) with constraint is deprecated and will be removed in a future version.\n",
      "Instructions for updating:\n",
      "If using Keras pass *_constraint arguments to layers.\n",
      "INFO:tensorflow:Assets written to: saved_model/MobileNet007/assets\n"
     ]
    }
   ],
   "source": [
    "model.save('saved_model/MobileNet')"
   ]
  },
  {
   "cell_type": "code",
   "execution_count": 13,
   "metadata": {},
   "outputs": [
    {
     "data": {
      "text/plain": [
       "8881136"
      ]
     },
     "execution_count": 13,
     "metadata": {},
     "output_type": "execute_result"
    }
   ],
   "source": [
    "converter = tf.lite.TFLiteConverter.from_saved_model('saved_model/MobileNet')\n",
    "tflite_model = converter.convert()\n",
    "open(\"converted_model_mobilenet.tflite\", \"wb\").write(tflite_model)"
   ]
  },
  {
   "cell_type": "code",
   "execution_count": null,
   "metadata": {},
   "outputs": [],
   "source": []
  }
 ],
 "metadata": {
  "kernelspec": {
   "display_name": "TensorFlow-GPU",
   "language": "python",
   "name": "tf_gpu"
  },
  "language_info": {
   "codemirror_mode": {
    "name": "ipython",
    "version": 3
   },
   "file_extension": ".py",
   "mimetype": "text/x-python",
   "name": "python",
   "nbconvert_exporter": "python",
   "pygments_lexer": "ipython3",
   "version": "3.7.6"
  }
 },
 "nbformat": 4,
 "nbformat_minor": 4
}
