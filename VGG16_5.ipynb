{
 "cells": [
  {
   "cell_type": "code",
   "execution_count": 1,
   "metadata": {},
   "outputs": [],
   "source": [
    "import os\n",
    "import tensorflow.keras as keras\n",
    "import tensorflow as tf\n",
    "from tensorflow.python.keras import Sequential\n",
    "from tensorflow.python.keras.layers  import Convolution2D , ZeroPadding2D\n",
    "from tensorflow.python.keras.layers  import GlobalAveragePooling2D , MaxPooling2D , Activation \n",
    "from tensorflow.python.keras.layers  import Flatten , Dropout\n",
    "from tensorflow.python.keras.layers  import Dense"
   ]
  },
  {
   "cell_type": "code",
   "execution_count": 2,
   "metadata": {},
   "outputs": [
    {
     "name": "stdout",
     "output_type": "stream",
     "text": [
      "Model: \"sequential\"\n",
      "_________________________________________________________________\n",
      "Layer (type)                 Output Shape              Param #   \n",
      "=================================================================\n",
      "zero_padding2d (ZeroPadding2 (None, 226, 226, 3)       0         \n",
      "_________________________________________________________________\n",
      "conv2d (Conv2D)              (None, 224, 224, 64)      1792      \n",
      "_________________________________________________________________\n",
      "zero_padding2d_1 (ZeroPaddin (None, 226, 226, 64)      0         \n",
      "_________________________________________________________________\n",
      "conv2d_1 (Conv2D)            (None, 224, 224, 64)      36928     \n",
      "_________________________________________________________________\n",
      "max_pooling2d (MaxPooling2D) (None, 112, 112, 64)      0         \n",
      "_________________________________________________________________\n",
      "zero_padding2d_2 (ZeroPaddin (None, 114, 114, 64)      0         \n",
      "_________________________________________________________________\n",
      "conv2d_2 (Conv2D)            (None, 112, 112, 128)     73856     \n",
      "_________________________________________________________________\n",
      "zero_padding2d_3 (ZeroPaddin (None, 114, 114, 128)     0         \n",
      "_________________________________________________________________\n",
      "conv2d_3 (Conv2D)            (None, 112, 112, 128)     147584    \n",
      "_________________________________________________________________\n",
      "max_pooling2d_1 (MaxPooling2 (None, 56, 56, 128)       0         \n",
      "_________________________________________________________________\n",
      "zero_padding2d_4 (ZeroPaddin (None, 58, 58, 128)       0         \n",
      "_________________________________________________________________\n",
      "conv2d_4 (Conv2D)            (None, 56, 56, 256)       295168    \n",
      "_________________________________________________________________\n",
      "zero_padding2d_5 (ZeroPaddin (None, 58, 58, 256)       0         \n",
      "_________________________________________________________________\n",
      "conv2d_5 (Conv2D)            (None, 56, 56, 256)       590080    \n",
      "_________________________________________________________________\n",
      "zero_padding2d_6 (ZeroPaddin (None, 58, 58, 256)       0         \n",
      "_________________________________________________________________\n",
      "conv2d_6 (Conv2D)            (None, 56, 56, 256)       590080    \n",
      "_________________________________________________________________\n",
      "max_pooling2d_2 (MaxPooling2 (None, 28, 28, 256)       0         \n",
      "_________________________________________________________________\n",
      "zero_padding2d_7 (ZeroPaddin (None, 30, 30, 256)       0         \n",
      "_________________________________________________________________\n",
      "conv2d_7 (Conv2D)            (None, 28, 28, 512)       1180160   \n",
      "_________________________________________________________________\n",
      "zero_padding2d_8 (ZeroPaddin (None, 30, 30, 512)       0         \n",
      "_________________________________________________________________\n",
      "conv2d_8 (Conv2D)            (None, 28, 28, 512)       2359808   \n",
      "_________________________________________________________________\n",
      "zero_padding2d_9 (ZeroPaddin (None, 30, 30, 512)       0         \n",
      "_________________________________________________________________\n",
      "conv2d_9 (Conv2D)            (None, 28, 28, 512)       2359808   \n",
      "_________________________________________________________________\n",
      "max_pooling2d_3 (MaxPooling2 (None, 14, 14, 512)       0         \n",
      "_________________________________________________________________\n",
      "zero_padding2d_10 (ZeroPaddi (None, 16, 16, 512)       0         \n",
      "_________________________________________________________________\n",
      "conv2d_10 (Conv2D)           (None, 14, 14, 512)       2359808   \n",
      "_________________________________________________________________\n",
      "zero_padding2d_11 (ZeroPaddi (None, 16, 16, 512)       0         \n",
      "_________________________________________________________________\n",
      "conv2d_11 (Conv2D)           (None, 14, 14, 512)       2359808   \n",
      "_________________________________________________________________\n",
      "zero_padding2d_12 (ZeroPaddi (None, 16, 16, 512)       0         \n",
      "_________________________________________________________________\n",
      "conv2d_12 (Conv2D)           (None, 14, 14, 512)       2359808   \n",
      "_________________________________________________________________\n",
      "max_pooling2d_4 (MaxPooling2 (None, 7, 7, 512)         0         \n",
      "_________________________________________________________________\n",
      "flatten (Flatten)            (None, 25088)             0         \n",
      "_________________________________________________________________\n",
      "dense (Dense)                (None, 4096)              102764544 \n",
      "_________________________________________________________________\n",
      "dropout (Dropout)            (None, 4096)              0         \n",
      "_________________________________________________________________\n",
      "dense_1 (Dense)              (None, 4096)              16781312  \n",
      "_________________________________________________________________\n",
      "dropout_1 (Dropout)          (None, 4096)              0         \n",
      "_________________________________________________________________\n",
      "dense_2 (Dense)              (None, 4)                 16388     \n",
      "=================================================================\n",
      "Total params: 134,276,932\n",
      "Trainable params: 134,276,932\n",
      "Non-trainable params: 0\n",
      "_________________________________________________________________\n",
      "None\n"
     ]
    }
   ],
   "source": [
    "def define_model():\n",
    "    model = Sequential()\n",
    "    model.add(ZeroPadding2D((1,1),input_shape=(224,224,3)))\n",
    "    model.add(Convolution2D(64, (3, 3), activation='relu'))\n",
    "    model.add(ZeroPadding2D((1,1)))\n",
    "    model.add(Convolution2D(64, (3, 3), activation='relu'))\n",
    "    model.add(MaxPooling2D((2,2), strides=(2,2)))\n",
    "\n",
    "    model.add(ZeroPadding2D((1,1)))\n",
    "    model.add(Convolution2D(128, (3, 3), activation='relu'))\n",
    "    model.add(ZeroPadding2D((1,1)))\n",
    "    model.add(Convolution2D(128, (3, 3), activation='relu'))\n",
    "    model.add(MaxPooling2D((2,2), strides=(2,2)))\n",
    "\n",
    "    model.add(ZeroPadding2D((1,1)))\n",
    "    model.add(Convolution2D(256, (3, 3), activation='relu'))\n",
    "    model.add(ZeroPadding2D((1,1)))\n",
    "    model.add(Convolution2D(256,(3, 3), activation='relu'))\n",
    "    model.add(ZeroPadding2D((1,1)))\n",
    "    model.add(Convolution2D(256, (3, 3), activation='relu'))\n",
    "    model.add(MaxPooling2D((2,2), strides=(2,2)))\n",
    "\n",
    "    model.add(ZeroPadding2D((1,1)))\n",
    "    model.add(Convolution2D(512,(3, 3), activation='relu'))\n",
    "    model.add(ZeroPadding2D((1,1)))\n",
    "    model.add(Convolution2D(512,(3, 3), activation='relu'))\n",
    "    model.add(ZeroPadding2D((1,1)))\n",
    "    model.add(Convolution2D(512, (3, 3), activation='relu'))\n",
    "    model.add(MaxPooling2D((2,2), strides=(2,2) , padding='same'))\n",
    "\n",
    "    model.add(ZeroPadding2D((1,1)))\n",
    "    model.add(Convolution2D(512, (3, 3), activation='relu'))\n",
    "    model.add(ZeroPadding2D((1,1)))\n",
    "    model.add(Convolution2D(512,(3, 3), activation='relu'))\n",
    "    model.add(ZeroPadding2D((1,1)))\n",
    "    model.add(Convolution2D(512, (3, 3), activation='relu'))\n",
    "    model.add(MaxPooling2D((2,2), strides=(2,2)))\n",
    "\n",
    "    model.add(Flatten())\n",
    "    model.add(Dense(4096, activation='relu'))\n",
    "    model.add(Dropout(0.5))\n",
    "    model.add(Dense(4096, activation='relu'))\n",
    "    model.add(Dropout(0.5))\n",
    "    model.add(Dense(4, activation='softmax'))\n",
    "    return model\n",
    "\n",
    "if __name__ == '__main__':\n",
    "    model = define_model()\n",
    "    print(model.summary())"
   ]
  },
  {
   "cell_type": "code",
   "execution_count": 3,
   "metadata": {},
   "outputs": [],
   "source": [
    "sgd = tf.keras.optimizers.SGD(lr=1e-6, decay=1e-6, momentum=0.9, nesterov=True)\n",
    "model.compile(optimizer=sgd, loss='categorical_crossentropy' , metrics=['accuracy'])"
   ]
  },
  {
   "cell_type": "code",
   "execution_count": 4,
   "metadata": {},
   "outputs": [],
   "source": [
    "from PIL import ImageFile\n",
    "ImageFile.LOAD_TRUNCATED_IMAGES = True"
   ]
  },
  {
   "cell_type": "code",
   "execution_count": 5,
   "metadata": {},
   "outputs": [
    {
     "name": "stderr",
     "output_type": "stream",
     "text": [
      "Using TensorFlow backend.\n"
     ]
    },
    {
     "name": "stdout",
     "output_type": "stream",
     "text": [
      "Found 17723 images belonging to 4 classes.\n",
      "Found 2214 images belonging to 4 classes.\n",
      "Found 2214 images belonging to 4 classes.\n"
     ]
    }
   ],
   "source": [
    "from keras.preprocessing.image import ImageDataGenerator\n",
    "\n",
    "train_datagen = ImageDataGenerator()\n",
    "validation_datagen = ImageDataGenerator()\n",
    "test_datagen = ImageDataGenerator()\n",
    "\n",
    "training_set = train_datagen.flow_from_directory('data_all/train/', \n",
    "                                                 target_size = (224,224), \n",
    "                                                 batch_size = 10, \n",
    "                                                 class_mode = 'categorical', \n",
    "                                                 shuffle = True)\n",
    "\n",
    "validation_set = test_datagen.flow_from_directory('data_all/validation/', \n",
    "                                            target_size = (224,224), \n",
    "                                            batch_size = 1, \n",
    "                                            class_mode = 'categorical')\n",
    "\n",
    "test_set = test_datagen.flow_from_directory('data_all/test/', \n",
    "                                            target_size = (224,224), \n",
    "                                            batch_size = 1, \n",
    "                                            class_mode = 'categorical')"
   ]
  },
  {
   "cell_type": "code",
   "execution_count": 6,
   "metadata": {},
   "outputs": [],
   "source": [
    "checkpoint_path = \"training_2/cp.ckpt\"\n",
    "checkpoint_dir = os.path.dirname(checkpoint_path)\n",
    "\n",
    "# Create a callback that saves the model's weights\n",
    "cp_callback = tf.keras.callbacks.ModelCheckpoint(filepath=checkpoint_path,\n",
    "                                                 save_weights_only=True,\n",
    "                                                 verbose=1)"
   ]
  },
  {
   "cell_type": "code",
   "execution_count": 7,
   "metadata": {},
   "outputs": [
    {
     "name": "stdout",
     "output_type": "stream",
     "text": [
      "Epoch 1/30\n",
      "1773/1773 [==============================] - ETA: 0s - loss: 1.4049 - accuracy: 0.2779\n",
      "Epoch 00001: saving model to training_2/cp.ckpt\n",
      "1773/1773 [==============================] - 6384s 4s/step - loss: 1.4049 - accuracy: 0.2779 - val_loss: 1.3297 - val_accuracy: 0.5379\n",
      "Epoch 2/30\n",
      "1773/1773 [==============================] - ETA: 0s - loss: 1.3453 - accuracy: 0.3392\n",
      "Epoch 00002: saving model to training_2/cp.ckpt\n",
      "1773/1773 [==============================] - 6327s 4s/step - loss: 1.3453 - accuracy: 0.3392 - val_loss: 1.2737 - val_accuracy: 0.6549\n",
      "Epoch 3/30\n",
      "1773/1773 [==============================] - ETA: 0s - loss: 1.2722 - accuracy: 0.4305\n",
      "Epoch 00003: saving model to training_2/cp.ckpt\n",
      "1773/1773 [==============================] - 6334s 4s/step - loss: 1.2722 - accuracy: 0.4305 - val_loss: 1.1508 - val_accuracy: 0.7462\n",
      "Epoch 4/30\n",
      "1773/1773 [==============================] - ETA: 0s - loss: 1.1212 - accuracy: 0.5541\n",
      "Epoch 00004: saving model to training_2/cp.ckpt\n",
      "1773/1773 [==============================] - 6388s 4s/step - loss: 1.1212 - accuracy: 0.5541 - val_loss: 0.9161 - val_accuracy: 0.7656\n",
      "Epoch 5/30\n",
      "1773/1773 [==============================] - ETA: 0s - loss: 0.9132 - accuracy: 0.6491\n",
      "Epoch 00005: saving model to training_2/cp.ckpt\n",
      "1773/1773 [==============================] - 6359s 4s/step - loss: 0.9132 - accuracy: 0.6491 - val_loss: 0.6904 - val_accuracy: 0.8541\n",
      "Epoch 6/30\n",
      "1773/1773 [==============================] - ETA: 0s - loss: 0.7538 - accuracy: 0.7227\n",
      "Epoch 00006: saving model to training_2/cp.ckpt\n",
      "1773/1773 [==============================] - 6365s 4s/step - loss: 0.7538 - accuracy: 0.7227 - val_loss: 0.5573 - val_accuracy: 0.8726\n",
      "Epoch 7/30\n",
      "1773/1773 [==============================] - ETA: 0s - loss: 0.6255 - accuracy: 0.7864\n",
      "Epoch 00007: saving model to training_2/cp.ckpt\n",
      "1773/1773 [==============================] - 6375s 4s/step - loss: 0.6255 - accuracy: 0.7864 - val_loss: 0.4194 - val_accuracy: 0.9033\n",
      "Epoch 8/30\n",
      "1773/1773 [==============================] - ETA: 0s - loss: 0.5135 - accuracy: 0.8346\n",
      "Epoch 00008: saving model to training_2/cp.ckpt\n",
      "1773/1773 [==============================] - 6331s 4s/step - loss: 0.5135 - accuracy: 0.8346 - val_loss: 0.3496 - val_accuracy: 0.9128\n",
      "Epoch 9/30\n",
      "1773/1773 [==============================] - ETA: 0s - loss: 0.4432 - accuracy: 0.8615\n",
      "Epoch 00009: saving model to training_2/cp.ckpt\n",
      "1773/1773 [==============================] - 6330s 4s/step - loss: 0.4432 - accuracy: 0.8615 - val_loss: 0.3006 - val_accuracy: 0.9228\n",
      "Epoch 10/30\n",
      "1773/1773 [==============================] - ETA: 0s - loss: 0.3969 - accuracy: 0.8781\n",
      "Epoch 00010: saving model to training_2/cp.ckpt\n",
      "1773/1773 [==============================] - 6332s 4s/step - loss: 0.3969 - accuracy: 0.8781 - val_loss: 0.2645 - val_accuracy: 0.9359\n",
      "Epoch 11/30\n",
      "1773/1773 [==============================] - ETA: 0s - loss: 0.3679 - accuracy: 0.8893\n",
      "Epoch 00011: saving model to training_2/cp.ckpt\n",
      "1773/1773 [==============================] - 6296s 4s/step - loss: 0.3679 - accuracy: 0.8893 - val_loss: 0.2459 - val_accuracy: 0.9435\n",
      "Epoch 12/30\n",
      "1773/1773 [==============================] - ETA: 0s - loss: 0.3431 - accuracy: 0.8989\n",
      "Epoch 00012: saving model to training_2/cp.ckpt\n",
      "1773/1773 [==============================] - 6314s 4s/step - loss: 0.3431 - accuracy: 0.8989 - val_loss: 0.2352 - val_accuracy: 0.9440\n",
      "Epoch 13/30\n",
      "1773/1773 [==============================] - ETA: 0s - loss: 0.3226 - accuracy: 0.9085\n",
      "Epoch 00013: saving model to training_2/cp.ckpt\n",
      "1773/1773 [==============================] - 6303s 4s/step - loss: 0.3226 - accuracy: 0.9085 - val_loss: 0.2351 - val_accuracy: 0.9444\n",
      "Epoch 14/30\n",
      "1773/1773 [==============================] - ETA: 0s - loss: 0.3111 - accuracy: 0.9125\n",
      "Epoch 00014: saving model to training_2/cp.ckpt\n",
      "1773/1773 [==============================] - 6300s 4s/step - loss: 0.3111 - accuracy: 0.9125 - val_loss: 0.2137 - val_accuracy: 0.9517\n",
      "Epoch 15/30\n",
      "1773/1773 [==============================] - ETA: 0s - loss: 0.2928 - accuracy: 0.9149\n",
      "Epoch 00015: saving model to training_2/cp.ckpt\n",
      "1773/1773 [==============================] - 6319s 4s/step - loss: 0.2928 - accuracy: 0.9149 - val_loss: 0.2026 - val_accuracy: 0.9499\n",
      "Epoch 16/30\n",
      "1773/1773 [==============================] - ETA: 0s - loss: 0.2850 - accuracy: 0.9195\n",
      "Epoch 00016: saving model to training_2/cp.ckpt\n",
      "1773/1773 [==============================] - 6313s 4s/step - loss: 0.2850 - accuracy: 0.9195 - val_loss: 0.1970 - val_accuracy: 0.9526\n",
      "Epoch 17/30\n",
      "1773/1773 [==============================] - ETA: 0s - loss: 0.2758 - accuracy: 0.9240\n",
      "Epoch 00017: saving model to training_2/cp.ckpt\n",
      "1773/1773 [==============================] - 6325s 4s/step - loss: 0.2758 - accuracy: 0.9240 - val_loss: 0.1937 - val_accuracy: 0.9548\n",
      "Epoch 18/30\n",
      "1773/1773 [==============================] - ETA: 0s - loss: 0.2671 - accuracy: 0.9282\n",
      "Epoch 00018: saving model to training_2/cp.ckpt\n",
      "1773/1773 [==============================] - 6307s 4s/step - loss: 0.2671 - accuracy: 0.9282 - val_loss: 0.1973 - val_accuracy: 0.9503\n",
      "Epoch 19/30\n",
      "1773/1773 [==============================] - ETA: 0s - loss: 0.2593 - accuracy: 0.9283\n",
      "Epoch 00019: saving model to training_2/cp.ckpt\n",
      "1773/1773 [==============================] - 6320s 4s/step - loss: 0.2593 - accuracy: 0.9283 - val_loss: 0.1812 - val_accuracy: 0.9580\n",
      "Epoch 20/30\n",
      "1773/1773 [==============================] - ETA: 0s - loss: 0.2544 - accuracy: 0.9298\n",
      "Epoch 00020: saving model to training_2/cp.ckpt\n",
      "1773/1773 [==============================] - 6315s 4s/step - loss: 0.2544 - accuracy: 0.9298 - val_loss: 0.1886 - val_accuracy: 0.9512\n",
      "Epoch 21/30\n",
      "1773/1773 [==============================] - ETA: 0s - loss: 0.2474 - accuracy: 0.9322\n",
      "Epoch 00021: saving model to training_2/cp.ckpt\n",
      "1773/1773 [==============================] - 6311s 4s/step - loss: 0.2474 - accuracy: 0.9322 - val_loss: 0.1829 - val_accuracy: 0.9530\n",
      "Epoch 22/30\n",
      "1773/1773 [==============================] - ETA: 0s - loss: 0.2426 - accuracy: 0.9329\n",
      "Epoch 00022: saving model to training_2/cp.ckpt\n",
      "1773/1773 [==============================] - 6308s 4s/step - loss: 0.2426 - accuracy: 0.9329 - val_loss: 0.1684 - val_accuracy: 0.9589\n",
      "Epoch 23/30\n",
      "1773/1773 [==============================] - ETA: 0s - loss: 0.2376 - accuracy: 0.9331\n",
      "Epoch 00023: saving model to training_2/cp.ckpt\n",
      "1773/1773 [==============================] - 6338s 4s/step - loss: 0.2376 - accuracy: 0.9331 - val_loss: 0.1809 - val_accuracy: 0.9521\n",
      "Epoch 24/30\n",
      "1773/1773 [==============================] - ETA: 0s - loss: 0.2327 - accuracy: 0.9370\n",
      "Epoch 00024: saving model to training_2/cp.ckpt\n",
      "1773/1773 [==============================] - 6332s 4s/step - loss: 0.2327 - accuracy: 0.9370 - val_loss: 0.1685 - val_accuracy: 0.9575\n",
      "Epoch 25/30\n",
      "1773/1773 [==============================] - ETA: 0s - loss: 0.2267 - accuracy: 0.9380\n",
      "Epoch 00025: saving model to training_2/cp.ckpt\n",
      "1773/1773 [==============================] - 6321s 4s/step - loss: 0.2267 - accuracy: 0.9380 - val_loss: 0.1743 - val_accuracy: 0.9503\n",
      "Epoch 26/30\n",
      "1773/1773 [==============================] - ETA: 0s - loss: 0.2232 - accuracy: 0.9396\n",
      "Epoch 00026: saving model to training_2/cp.ckpt\n",
      "1773/1773 [==============================] - 6333s 4s/step - loss: 0.2232 - accuracy: 0.9396 - val_loss: 0.1579 - val_accuracy: 0.9598\n",
      "Epoch 27/30\n",
      "1773/1773 [==============================] - ETA: 0s - loss: 0.2206 - accuracy: 0.9382\n",
      "Epoch 00027: saving model to training_2/cp.ckpt\n",
      "1773/1773 [==============================] - 6334s 4s/step - loss: 0.2206 - accuracy: 0.9382 - val_loss: 0.1616 - val_accuracy: 0.9580\n",
      "Epoch 28/30\n",
      "1773/1773 [==============================] - ETA: 0s - loss: 0.2098 - accuracy: 0.9453\n",
      "Epoch 00028: saving model to training_2/cp.ckpt\n",
      "1773/1773 [==============================] - 6329s 4s/step - loss: 0.2098 - accuracy: 0.9453 - val_loss: 0.1507 - val_accuracy: 0.9634\n",
      "Epoch 29/30\n",
      "1773/1773 [==============================] - ETA: 0s - loss: 0.2090 - accuracy: 0.9426\n",
      "Epoch 00029: saving model to training_2/cp.ckpt\n",
      "1773/1773 [==============================] - 6335s 4s/step - loss: 0.2090 - accuracy: 0.9426 - val_loss: 0.1468 - val_accuracy: 0.9639\n",
      "Epoch 30/30\n"
     ]
    },
    {
     "name": "stdout",
     "output_type": "stream",
     "text": [
      "1773/1773 [==============================] - ETA: 0s - loss: 0.2076 - accuracy: 0.9452\n",
      "Epoch 00030: saving model to training_2/cp.ckpt\n",
      "1773/1773 [==============================] - 6349s 4s/step - loss: 0.2076 - accuracy: 0.9452 - val_loss: 0.1606 - val_accuracy: 0.9580\n"
     ]
    },
    {
     "data": {
      "text/plain": [
       "<tensorflow.python.keras.callbacks.History at 0x7f5602b890d0>"
      ]
     },
     "execution_count": 7,
     "metadata": {},
     "output_type": "execute_result"
    }
   ],
   "source": [
    "model.fit(training_set, epochs = 30, validation_data = validation_set, verbose = 1, callbacks = [cp_callback])"
   ]
  },
  {
   "cell_type": "code",
   "execution_count": 8,
   "metadata": {},
   "outputs": [
    {
     "name": "stdout",
     "output_type": "stream",
     "text": [
      "2214/2214 [==============================] - 339s 153ms/step - loss: 0.1713 - accuracy: 0.9630\n"
     ]
    }
   ],
   "source": [
    "results = model.evaluate(test_set)"
   ]
  },
  {
   "cell_type": "code",
   "execution_count": 9,
   "metadata": {},
   "outputs": [
    {
     "name": "stdout",
     "output_type": "stream",
     "text": [
      "WARNING:tensorflow:From /home/user/anaconda3/envs/tf/lib/python3.8/site-packages/tensorflow/python/ops/resource_variable_ops.py:1813: calling BaseResourceVariable.__init__ (from tensorflow.python.ops.resource_variable_ops) with constraint is deprecated and will be removed in a future version.\n",
      "Instructions for updating:\n",
      "If using Keras pass *_constraint arguments to layers.\n",
      "INFO:tensorflow:Assets written to: saved_model/VGG16/assets\n"
     ]
    }
   ],
   "source": [
    "model.save('saved_model/VGG16')"
   ]
  },
  {
   "cell_type": "code",
   "execution_count": 10,
   "metadata": {},
   "outputs": [],
   "source": [
    "model.save('VGG16.h5')"
   ]
  },
  {
   "cell_type": "raw",
   "metadata": {},
   "source": [
    "tf.keras.models.save_model(model, filepath='saved_model/', include_optimizer=True)\n",
    "# Same function as above command"
   ]
  },
  {
   "cell_type": "code",
   "execution_count": 11,
   "metadata": {},
   "outputs": [
    {
     "data": {
      "text/plain": [
       "537123800"
      ]
     },
     "execution_count": 11,
     "metadata": {},
     "output_type": "execute_result"
    }
   ],
   "source": [
    "converter = tf.lite.TFLiteConverter.from_saved_model('saved_model/VGG16')\n",
    "tflite_model = converter.convert()\n",
    "open(\"converted_model.tflite\", \"wb\").write(tflite_model)"
   ]
  },
  {
   "cell_type": "code",
   "execution_count": null,
   "metadata": {},
   "outputs": [],
   "source": []
  }
 ],
 "metadata": {
  "kernelspec": {
   "display_name": "Python 3",
   "language": "python",
   "name": "python3"
  },
  "language_info": {
   "codemirror_mode": {
    "name": "ipython",
    "version": 3
   },
   "file_extension": ".py",
   "mimetype": "text/x-python",
   "name": "python",
   "nbconvert_exporter": "python",
   "pygments_lexer": "ipython3",
   "version": "3.8.3"
  }
 },
 "nbformat": 4,
 "nbformat_minor": 4
}
