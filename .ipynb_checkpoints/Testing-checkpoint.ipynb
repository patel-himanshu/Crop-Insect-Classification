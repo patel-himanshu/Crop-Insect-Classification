{
 "cells": [
  {
   "cell_type": "raw",
   "metadata": {},
   "source": [
    "import tensorflow as tf"
   ]
  },
  {
   "cell_type": "raw",
   "metadata": {},
   "source": [
    "tf_int = tf.lite.Interpreter('converted_model_googlenet_5.tflite')"
   ]
  },
  {
   "cell_type": "raw",
   "metadata": {},
   "source": [
    "# Input details\n",
    "ipd = tf_int.get_input_details()\n",
    "ipd"
   ]
  },
  {
   "cell_type": "raw",
   "metadata": {},
   "source": [
    "# Output details\n",
    "opd = tf_int.get_output_details()\n",
    "opd"
   ]
  },
  {
   "cell_type": "raw",
   "metadata": {},
   "source": [
    "# tf_int.resize_tensor_input(ipd[0]['index'], (4, 32, 32, 3))\n",
    "tf_int.resize_tensor_input(ipd[0]['index'], (1, 32, 32, 3))\n",
    "tf_int.resize_tensor_input(opd[0]['index'], (4,4))"
   ]
  },
  {
   "cell_type": "raw",
   "metadata": {},
   "source": [
    "ipd"
   ]
  },
  {
   "cell_type": "raw",
   "metadata": {},
   "source": [
    "opd"
   ]
  },
  {
   "cell_type": "raw",
   "metadata": {},
   "source": [
    "import cv2\n",
    "import numpy as np"
   ]
  },
  {
   "cell_type": "raw",
   "metadata": {},
   "source": [
    "file = cv2.imread('ia.jpg')"
   ]
  },
  {
   "cell_type": "raw",
   "metadata": {},
   "source": [
    "img = cv2.resize(file, (32,32))"
   ]
  },
  {
   "cell_type": "raw",
   "metadata": {},
   "source": [
    "# img"
   ]
  },
  {
   "cell_type": "raw",
   "metadata": {},
   "source": [
    "img1 = img.astype(np.float32)"
   ]
  },
  {
   "cell_type": "raw",
   "metadata": {},
   "source": [
    "ans = tf_int.set_tensor(ipd[0]['index'], [img1])\n",
    "ans"
   ]
  },
  {
   "cell_type": "raw",
   "metadata": {},
   "source": [
    "# tf_int.invoke()"
   ]
  },
  {
   "cell_type": "code",
   "execution_count": null,
   "metadata": {},
   "outputs": [],
   "source": []
  },
  {
   "cell_type": "code",
   "execution_count": null,
   "metadata": {},
   "outputs": [],
   "source": []
  },
  {
   "cell_type": "code",
   "execution_count": null,
   "metadata": {},
   "outputs": [],
   "source": []
  },
  {
   "cell_type": "code",
   "execution_count": 13,
   "metadata": {},
   "outputs": [
    {
     "name": "stdout",
     "output_type": "stream",
     "text": [
      "0.582853: Tobacco Caterpillar (B)\n",
      "0.168653: Larva Spodoptera (D)\n",
      "0.138101: Red Hairy Caterpillar (C)\n",
      "0.110393: Eocanthecona Bug (A)\n"
     ]
    }
   ],
   "source": [
    "from __future__ import absolute_import\n",
    "from __future__ import division\n",
    "from __future__ import print_function\n",
    "\n",
    "import argparse\n",
    "\n",
    "import numpy as np\n",
    "\n",
    "from PIL import Image\n",
    "\n",
    "import tensorflow as tf # TF2\n",
    "\n",
    "\n",
    "def load_labels(filename):\n",
    "    with open(filename, 'r') as f:\n",
    "        return [line.strip() for line in f.readlines()]\n",
    "\n",
    "\n",
    "if __name__ == '__main__':\n",
    "#     parser = argparse.ArgumentParser()\n",
    "#     parser.add_argument(\n",
    "#         '-i',\n",
    "#         '--image',\n",
    "#         default='/tmp/grace_hopper.bmp',\n",
    "#         help='image to be classified')\n",
    "#     parser.add_argument(\n",
    "#       '-m',\n",
    "#       '--model_file',\n",
    "#       default='/tmp/mobilenet_v1_1.0_224_quant.tflite',\n",
    "#       help='.tflite model to be executed')\n",
    "#     parser.add_argument(\n",
    "#       '-l',\n",
    "#       '--label_file',\n",
    "#       default='/tmp/labels.txt',\n",
    "#       help='name of file containing labels')\n",
    "#     parser.add_argument(\n",
    "#       '--input_mean',\n",
    "#       default=127.5, type=float,\n",
    "#       help='input_mean')\n",
    "#     parser.add_argument(\n",
    "#       '--input_std',\n",
    "#       default=127.5, type=float,\n",
    "#       help='input standard deviation')\n",
    "#     args = parser.parse_args()\n",
    "\n",
    "#     interpreter = tf.lite.Interpreter(model_path=args.model_file)\n",
    "    interpreter = tf.lite.Interpreter('converted_model_googlenet_2.tflite')\n",
    "    interpreter.allocate_tensors()\n",
    "\n",
    "    input_details = interpreter.get_input_details()\n",
    "    output_details = interpreter.get_output_details()\n",
    "\n",
    "    # check the type of the input tensor\n",
    "    floating_model = input_details[0]['dtype'] == np.float32\n",
    "\n",
    "    height = input_details[0]['shape'][1]\n",
    "    width = input_details[0]['shape'][2]\n",
    "    img = Image.open('id.jpg').resize((32, 32))\n",
    "\n",
    "    input_data = np.float32(np.expand_dims(img, axis=0))\n",
    "\n",
    "#     if floating_model:\n",
    "#         input_data = (np.float32(input_data) - args.input_mean) / args.input_std\n",
    "\n",
    "    interpreter.set_tensor(input_details[0]['index'], input_data)\n",
    "\n",
    "    interpreter.invoke()\n",
    "\n",
    "    output_data = interpreter.get_tensor(output_details[0]['index'])\n",
    "    results = np.squeeze(output_data)\n",
    "\n",
    "    top_k = results.argsort()[-5:][::-1]\n",
    "    labels = load_labels('labels.txt')\n",
    "    for i in top_k:\n",
    "        if floating_model:\n",
    "            print('{:08.6f}: {}'.format(float(results[i]), labels[i]))\n",
    "        else:\n",
    "            print('{:08.6f}: {}'.format(float(results[i] / 255.0), labels[i]))"
   ]
  },
  {
   "cell_type": "code",
   "execution_count": null,
   "metadata": {},
   "outputs": [],
   "source": []
  }
 ],
 "metadata": {
  "kernelspec": {
   "display_name": "TensorFlow-GPU",
   "language": "python",
   "name": "tf_gpu"
  },
  "language_info": {
   "codemirror_mode": {
    "name": "ipython",
    "version": 3
   },
   "file_extension": ".py",
   "mimetype": "text/x-python",
   "name": "python",
   "nbconvert_exporter": "python",
   "pygments_lexer": "ipython3",
   "version": "3.7.6"
  }
 },
 "nbformat": 4,
 "nbformat_minor": 4
}
