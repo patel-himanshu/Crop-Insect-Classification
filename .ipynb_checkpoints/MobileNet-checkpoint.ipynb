{
 "cells": [
  {
   "cell_type": "code",
   "execution_count": 10,
   "metadata": {},
   "outputs": [],
   "source": [
    "import os\n",
    "import tensorflow as tf\n",
    "from tensorflow import keras\n",
    "from tensorflow.keras.models import Sequential\n",
    "from tensorflow.keras.layers import Dense, GlobalAveragePooling2D\n",
    "import matplotlib.pyplot as plt"
   ]
  },
  {
   "cell_type": "code",
   "execution_count": 11,
   "metadata": {},
   "outputs": [],
   "source": [
    "base_model = tf.keras.applications.MobileNetV2(input_shape=(224, 224, 3),\n",
    "                                               include_top=False,\n",
    "                                               weights='imagenet')"
   ]
  },
  {
   "cell_type": "code",
   "execution_count": 12,
   "metadata": {},
   "outputs": [],
   "source": [
    "base_model.trainable = False"
   ]
  },
  {
   "cell_type": "code",
   "execution_count": 22,
   "metadata": {},
   "outputs": [
    {
     "name": "stdout",
     "output_type": "stream",
     "text": [
      "Model: \"sequential_5\"\n",
      "_________________________________________________________________\n",
      "Layer (type)                 Output Shape              Param #   \n",
      "=================================================================\n",
      "mobilenetv2_1.00_224 (Model) (None, 7, 7, 1280)        2257984   \n",
      "_________________________________________________________________\n",
      "global_average_pooling2d_4 ( (None, 1280)              0         \n",
      "_________________________________________________________________\n",
      "dense_1 (Dense)              (None, 4)                 5124      \n",
      "=================================================================\n",
      "Total params: 2,263,108\n",
      "Trainable params: 5,124\n",
      "Non-trainable params: 2,257,984\n",
      "_________________________________________________________________\n",
      "None\n"
     ]
    }
   ],
   "source": [
    "def define_model():\n",
    "    model = Sequential()\n",
    "    model.add(base_model)\n",
    "    model.add(GlobalAveragePooling2D())\n",
    "    model.add(Dense(4, activation='softmax'))\n",
    "    return model\n",
    "\n",
    "if __name__ == '__main__':\n",
    "    model = define_model()\n",
    "    print(model.summary())"
   ]
  },
  {
   "cell_type": "code",
   "execution_count": 23,
   "metadata": {},
   "outputs": [],
   "source": [
    "sgd = tf.keras.optimizers.SGD(lr=1e-6, decay=1e-6, momentum=0.9, nesterov=True)\n",
    "model.compile(optimizer=sgd, loss='categorical_crossentropy' , metrics=['accuracy'])"
   ]
  },
  {
   "cell_type": "code",
   "execution_count": 24,
   "metadata": {},
   "outputs": [],
   "source": [
    "from PIL import ImageFile\n",
    "ImageFile.LOAD_TRUNCATED_IMAGES = True"
   ]
  },
  {
   "cell_type": "code",
   "execution_count": 25,
   "metadata": {},
   "outputs": [
    {
     "name": "stdout",
     "output_type": "stream",
     "text": [
      "Found 5694 images belonging to 4 classes.\n",
      "Found 1140 images belonging to 4 classes.\n",
      "Found 760 images belonging to 4 classes.\n"
     ]
    }
   ],
   "source": [
    "from keras.preprocessing.image import ImageDataGenerator\n",
    "\n",
    "train_datagen = ImageDataGenerator()\n",
    "validation_datagen = ImageDataGenerator()\n",
    "test_datagen = ImageDataGenerator()\n",
    "\n",
    "training_set = train_datagen.flow_from_directory('D3/train/', \n",
    "                                                 target_size = (224,224), \n",
    "                                                 batch_size = 10, \n",
    "                                                 class_mode = 'categorical', \n",
    "                                                 shuffle = True)\n",
    "\n",
    "validation_set = test_datagen.flow_from_directory('D3/validation/', \n",
    "                                            target_size = (224,224), \n",
    "                                            batch_size = 1, \n",
    "                                            class_mode = 'categorical')\n",
    "\n",
    "test_set = test_datagen.flow_from_directory('D3/test/', \n",
    "                                            target_size = (224,224), \n",
    "                                            batch_size = 1, \n",
    "                                            class_mode = 'categorical')"
   ]
  },
  {
   "cell_type": "code",
   "execution_count": 26,
   "metadata": {},
   "outputs": [],
   "source": [
    "checkpoint_path = \"training_2/cp.ckpt\"\n",
    "checkpoint_dir = os.path.dirname(checkpoint_path)\n",
    "\n",
    "# Create a callback that saves the model's weights\n",
    "cp_callback = tf.keras.callbacks.ModelCheckpoint(filepath=checkpoint_path,\n",
    "                                                 save_weights_only=True,\n",
    "                                                 verbose=1)"
   ]
  },
  {
   "cell_type": "code",
   "execution_count": 27,
   "metadata": {},
   "outputs": [],
   "source": [
    "early_stopping = tf.keras.callbacks.EarlyStopping(patience = 3)"
   ]
  },
  {
   "cell_type": "code",
   "execution_count": 28,
   "metadata": {},
   "outputs": [
    {
     "name": "stdout",
     "output_type": "stream",
     "text": [
      "Train for 570 steps, validate for 1140 steps\n",
      "Epoch 1/30\n",
      "568/570 [============================>.] - ETA: 1s - loss: 1.4869 - accuracy: 0.3146\n",
      "Epoch 00001: saving model to training_2/cp.ckpt\n",
      "570/570 [==============================] - 451s 791ms/step - loss: 1.4865 - accuracy: 0.3147 - val_loss: 2.1399 - val_accuracy: 0.2596\n",
      "Epoch 2/30\n",
      "569/570 [============================>.] - ETA: 0s - loss: 1.4075 - accuracy: 0.3392\n",
      "Epoch 00002: saving model to training_2/cp.ckpt\n",
      "570/570 [==============================] - 539s 945ms/step - loss: 1.4079 - accuracy: 0.3388 - val_loss: 2.0833 - val_accuracy: 0.2596\n",
      "Epoch 3/30\n",
      "569/570 [============================>.] - ETA: 0s - loss: 1.3509 - accuracy: 0.3689\n",
      "Epoch 00003: saving model to training_2/cp.ckpt\n",
      "570/570 [==============================] - 548s 961ms/step - loss: 1.3510 - accuracy: 0.3688 - val_loss: 2.0426 - val_accuracy: 0.2588\n",
      "Epoch 4/30\n",
      "569/570 [============================>.] - ETA: 0s - loss: 1.3079 - accuracy: 0.3893\n",
      "Epoch 00004: saving model to training_2/cp.ckpt\n",
      "570/570 [==============================] - 476s 836ms/step - loss: 1.3080 - accuracy: 0.3894 - val_loss: 2.0142 - val_accuracy: 0.2614\n",
      "Epoch 5/30\n",
      "569/570 [============================>.] - ETA: 0s - loss: 1.2736 - accuracy: 0.4112\n",
      "Epoch 00005: saving model to training_2/cp.ckpt\n",
      "570/570 [==============================] - 504s 884ms/step - loss: 1.2735 - accuracy: 0.4113 - val_loss: 1.9941 - val_accuracy: 0.2614\n",
      "Epoch 6/30\n",
      "568/570 [============================>.] - ETA: 1s - loss: 1.2442 - accuracy: 0.4292\n",
      "Epoch 00006: saving model to training_2/cp.ckpt\n",
      "570/570 [==============================] - 518s 909ms/step - loss: 1.2442 - accuracy: 0.4289 - val_loss: 1.9807 - val_accuracy: 0.2614\n",
      "Epoch 7/30\n",
      "568/570 [============================>.] - ETA: 1s - loss: 1.2188 - accuracy: 0.4478\n",
      "Epoch 00007: saving model to training_2/cp.ckpt\n",
      "570/570 [==============================] - 530s 930ms/step - loss: 1.2184 - accuracy: 0.4478 - val_loss: 1.9712 - val_accuracy: 0.2605\n",
      "Epoch 8/30\n",
      "569/570 [============================>.] - ETA: 0s - loss: 1.1946 - accuracy: 0.4682\n",
      "Epoch 00008: saving model to training_2/cp.ckpt\n",
      "570/570 [==============================] - 586s 1s/step - loss: 1.1947 - accuracy: 0.4679 - val_loss: 1.9646 - val_accuracy: 0.2605\n",
      "Epoch 9/30\n",
      "569/570 [============================>.] - ETA: 0s - loss: 1.1728 - accuracy: 0.4829\n",
      "Epoch 00009: saving model to training_2/cp.ckpt\n",
      "570/570 [==============================] - 540s 948ms/step - loss: 1.1727 - accuracy: 0.4830 - val_loss: 1.9606 - val_accuracy: 0.2605\n",
      "Epoch 10/30\n",
      "569/570 [============================>.] - ETA: 0s - loss: 1.1518 - accuracy: 0.4982\n",
      "Epoch 00010: saving model to training_2/cp.ckpt\n",
      "570/570 [==============================] - 534s 937ms/step - loss: 1.1518 - accuracy: 0.4982 - val_loss: 1.9582 - val_accuracy: 0.2605\n",
      "Epoch 11/30\n",
      "569/570 [============================>.] - ETA: 0s - loss: 1.1318 - accuracy: 0.5160\n",
      "Epoch 00011: saving model to training_2/cp.ckpt\n",
      "570/570 [==============================] - 507s 889ms/step - loss: 1.1318 - accuracy: 0.5160 - val_loss: 1.9567 - val_accuracy: 0.2605\n",
      "Epoch 12/30\n",
      "569/570 [============================>.] - ETA: 0s - loss: 1.1125 - accuracy: 0.5308\n",
      "Epoch 00012: saving model to training_2/cp.ckpt\n",
      "570/570 [==============================] - 494s 866ms/step - loss: 1.1126 - accuracy: 0.5307 - val_loss: 1.9567 - val_accuracy: 0.2605\n",
      "Epoch 13/30\n",
      "569/570 [============================>.] - ETA: 0s - loss: 1.0943 - accuracy: 0.5443\n",
      "Epoch 00013: saving model to training_2/cp.ckpt\n",
      "570/570 [==============================] - 540s 948ms/step - loss: 1.0942 - accuracy: 0.5446 - val_loss: 1.9562 - val_accuracy: 0.2614\n",
      "Epoch 14/30\n",
      "569/570 [============================>.] - ETA: 0s - loss: 1.0767 - accuracy: 0.5565\n",
      "Epoch 00014: saving model to training_2/cp.ckpt\n",
      "570/570 [==============================] - 501s 878ms/step - loss: 1.0763 - accuracy: 0.5567 - val_loss: 1.9557 - val_accuracy: 0.2614\n",
      "Epoch 15/30\n",
      "569/570 [============================>.] - ETA: 0s - loss: 1.0589 - accuracy: 0.5716\n",
      "Epoch 00015: saving model to training_2/cp.ckpt\n",
      "570/570 [==============================] - 487s 854ms/step - loss: 1.0590 - accuracy: 0.5715 - val_loss: 1.9563 - val_accuracy: 0.2614\n",
      "Epoch 16/30\n",
      "568/570 [============================>.] - ETA: 1s - loss: 1.0424 - accuracy: 0.5832\n",
      "Epoch 00016: saving model to training_2/cp.ckpt\n",
      "570/570 [==============================] - 533s 935ms/step - loss: 1.0422 - accuracy: 0.5827 - val_loss: 1.9561 - val_accuracy: 0.2614\n",
      "Epoch 17/30\n",
      "569/570 [============================>.] - ETA: 0s - loss: 1.0263 - accuracy: 0.5943\n",
      "Epoch 00017: saving model to training_2/cp.ckpt\n",
      "570/570 [==============================] - 518s 908ms/step - loss: 1.0259 - accuracy: 0.5945 - val_loss: 1.9575 - val_accuracy: 0.2614\n"
     ]
    }
   ],
   "source": [
    "training = model.fit(training_set, \n",
    "                     epochs = 30, \n",
    "                     validation_data = validation_set, \n",
    "                     verbose = 1, \n",
    "                     callbacks = [cp_callback, early_stopping])"
   ]
  },
  {
   "cell_type": "code",
   "execution_count": 29,
   "metadata": {},
   "outputs": [
    {
     "name": "stdout",
     "output_type": "stream",
     "text": [
      "760/760 [==============================] - 89s 117ms/step - loss: 1.9960 - accuracy: 0.2671\n"
     ]
    }
   ],
   "source": [
    "results = model.evaluate(test_set)"
   ]
  },
  {
   "cell_type": "code",
   "execution_count": 30,
   "metadata": {},
   "outputs": [
    {
     "name": "stdout",
     "output_type": "stream",
     "text": [
      "WARNING:tensorflow:From /home/himanshu/anaconda3/envs/tf_gpu/lib/python3.7/site-packages/tensorflow_core/python/ops/resource_variable_ops.py:1781: calling BaseResourceVariable.__init__ (from tensorflow.python.ops.resource_variable_ops) with constraint is deprecated and will be removed in a future version.\n",
      "Instructions for updating:\n",
      "If using Keras pass *_constraint arguments to layers.\n",
      "INFO:tensorflow:Assets written to: saved_model/MobileNet/assets\n"
     ]
    }
   ],
   "source": [
    "model.save('saved_model/MobileNet')"
   ]
  },
  {
   "cell_type": "code",
   "execution_count": 31,
   "metadata": {},
   "outputs": [
    {
     "data": {
      "text/plain": [
       "8881476"
      ]
     },
     "execution_count": 31,
     "metadata": {},
     "output_type": "execute_result"
    }
   ],
   "source": [
    "converter = tf.lite.TFLiteConverter.from_saved_model('saved_model/MobileNet')\n",
    "tflite_model = converter.convert()\n",
    "open(\"converted_model_mobilenet.tflite\", \"wb\").write(tflite_model)"
   ]
  },
  {
   "cell_type": "code",
   "execution_count": null,
   "metadata": {},
   "outputs": [],
   "source": []
  }
 ],
 "metadata": {
  "kernelspec": {
   "display_name": "TensorFlow-GPU",
   "language": "python",
   "name": "tf_gpu"
  },
  "language_info": {
   "codemirror_mode": {
    "name": "ipython",
    "version": 3
   },
   "file_extension": ".py",
   "mimetype": "text/x-python",
   "name": "python",
   "nbconvert_exporter": "python",
   "pygments_lexer": "ipython3",
   "version": "3.7.6"
  }
 },
 "nbformat": 4,
 "nbformat_minor": 4
}
